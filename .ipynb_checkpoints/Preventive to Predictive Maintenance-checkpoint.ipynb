{
 "cells": [
  {
   "cell_type": "code",
   "execution_count": 124,
   "id": "82a36945",
   "metadata": {},
   "outputs": [],
   "source": [
    "#IMPORT ALL LIBRARIES\n",
    "import numpy as np\n",
    "import pandas as pd\n",
    "import seaborn as sns\n",
    "import matplotlib.pyplot as plt\n",
    "\n",
    "from sklearn.model_selection import train_test_split,GridSearchCV,RandomizedSearchCV\n",
    "from sklearn.linear_model import LinearRegression\n",
    "from sklearn.neighbors import KNeighborsRegressor\n",
    "from sklearn.tree import DecisionTreeRegressor\n",
    "from sklearn.ensemble import RandomForestRegressor\n",
    "from sklearn.ensemble import AdaBoostRegressor\n",
    "\n",
    "from sklearn.metrics import mean_squared_error,mean_absolute_error,r2_score\n",
    "\n",
    "from sklearn.preprocessing import MinMaxScaler"
   ]
  },
  {
   "cell_type": "markdown",
   "id": "952199e9",
   "metadata": {},
   "source": [
    "# 1)PROBLEM STATEMENT"
   ]
  },
  {
   "cell_type": "raw",
   "id": "9c483d97",
   "metadata": {},
   "source": [
    "The observed degradation process is the clogging of filters when separating of solid particles from gas.The data set Preventive to Predictive Maintenance is about the transition of a preventive maintenance strategy to a predictive maintenance strategy of a replaceable part, in this case a filter.The objective of the data set is to precisely predict the remaining useful life (RUL) of the filter for the given test data, so a transition to predictive maintenance is made possible. "
   ]
  },
  {
   "cell_type": "markdown",
   "id": "d6ba503a",
   "metadata": {},
   "source": [
    "## 2)DATA GATHERING"
   ]
  },
  {
   "cell_type": "code",
   "execution_count": 54,
   "id": "c9eda818",
   "metadata": {},
   "outputs": [
    {
     "data": {
      "text/html": [
       "<div>\n",
       "<style scoped>\n",
       "    .dataframe tbody tr th:only-of-type {\n",
       "        vertical-align: middle;\n",
       "    }\n",
       "\n",
       "    .dataframe tbody tr th {\n",
       "        vertical-align: top;\n",
       "    }\n",
       "\n",
       "    .dataframe thead th {\n",
       "        text-align: right;\n",
       "    }\n",
       "</style>\n",
       "<table border=\"1\" class=\"dataframe\">\n",
       "  <thead>\n",
       "    <tr style=\"text-align: right;\">\n",
       "      <th></th>\n",
       "      <th>Data_No</th>\n",
       "      <th>Differential_pressure</th>\n",
       "      <th>Flow_rate</th>\n",
       "      <th>Time</th>\n",
       "      <th>Dust_feed</th>\n",
       "      <th>Dust</th>\n",
       "      <th>RUL</th>\n",
       "    </tr>\n",
       "  </thead>\n",
       "  <tbody>\n",
       "    <tr>\n",
       "      <th>0</th>\n",
       "      <td>1</td>\n",
       "      <td>0.271267</td>\n",
       "      <td>52.281993</td>\n",
       "      <td>0.1</td>\n",
       "      <td>236.428943</td>\n",
       "      <td>ISO 12103-1, A3 Medium Test Dust</td>\n",
       "      <td>58.9</td>\n",
       "    </tr>\n",
       "    <tr>\n",
       "      <th>1</th>\n",
       "      <td>1</td>\n",
       "      <td>0.361690</td>\n",
       "      <td>54.986671</td>\n",
       "      <td>0.2</td>\n",
       "      <td>236.428943</td>\n",
       "      <td>ISO 12103-1, A3 Medium Test Dust</td>\n",
       "      <td>58.8</td>\n",
       "    </tr>\n",
       "    <tr>\n",
       "      <th>2</th>\n",
       "      <td>1</td>\n",
       "      <td>0.000000</td>\n",
       "      <td>55.424786</td>\n",
       "      <td>0.3</td>\n",
       "      <td>236.428943</td>\n",
       "      <td>ISO 12103-1, A3 Medium Test Dust</td>\n",
       "      <td>58.7</td>\n",
       "    </tr>\n",
       "    <tr>\n",
       "      <th>3</th>\n",
       "      <td>1</td>\n",
       "      <td>2.622251</td>\n",
       "      <td>55.524146</td>\n",
       "      <td>0.4</td>\n",
       "      <td>236.428943</td>\n",
       "      <td>ISO 12103-1, A3 Medium Test Dust</td>\n",
       "      <td>58.6</td>\n",
       "    </tr>\n",
       "    <tr>\n",
       "      <th>4</th>\n",
       "      <td>1</td>\n",
       "      <td>3.888165</td>\n",
       "      <td>55.852018</td>\n",
       "      <td>0.5</td>\n",
       "      <td>236.428943</td>\n",
       "      <td>ISO 12103-1, A3 Medium Test Dust</td>\n",
       "      <td>58.5</td>\n",
       "    </tr>\n",
       "    <tr>\n",
       "      <th>...</th>\n",
       "      <td>...</td>\n",
       "      <td>...</td>\n",
       "      <td>...</td>\n",
       "      <td>...</td>\n",
       "      <td>...</td>\n",
       "      <td>...</td>\n",
       "      <td>...</td>\n",
       "    </tr>\n",
       "    <tr>\n",
       "      <th>39409</th>\n",
       "      <td>50</td>\n",
       "      <td>465.494800</td>\n",
       "      <td>82.675521</td>\n",
       "      <td>52.0</td>\n",
       "      <td>316.985065</td>\n",
       "      <td>ISO 12103-1, A4 Coarse Test Dust</td>\n",
       "      <td>8.2</td>\n",
       "    </tr>\n",
       "    <tr>\n",
       "      <th>39410</th>\n",
       "      <td>50</td>\n",
       "      <td>464.228900</td>\n",
       "      <td>82.421873</td>\n",
       "      <td>52.1</td>\n",
       "      <td>316.985065</td>\n",
       "      <td>ISO 12103-1, A4 Coarse Test Dust</td>\n",
       "      <td>8.1</td>\n",
       "    </tr>\n",
       "    <tr>\n",
       "      <th>39411</th>\n",
       "      <td>50</td>\n",
       "      <td>466.037300</td>\n",
       "      <td>82.743156</td>\n",
       "      <td>52.2</td>\n",
       "      <td>316.985065</td>\n",
       "      <td>ISO 12103-1, A4 Coarse Test Dust</td>\n",
       "      <td>8.0</td>\n",
       "    </tr>\n",
       "    <tr>\n",
       "      <th>39412</th>\n",
       "      <td>50</td>\n",
       "      <td>472.276500</td>\n",
       "      <td>82.785427</td>\n",
       "      <td>52.3</td>\n",
       "      <td>316.985065</td>\n",
       "      <td>ISO 12103-1, A4 Coarse Test Dust</td>\n",
       "      <td>7.9</td>\n",
       "    </tr>\n",
       "    <tr>\n",
       "      <th>39413</th>\n",
       "      <td>50</td>\n",
       "      <td>474.175400</td>\n",
       "      <td>83.013710</td>\n",
       "      <td>52.4</td>\n",
       "      <td>316.985065</td>\n",
       "      <td>ISO 12103-1, A4 Coarse Test Dust</td>\n",
       "      <td>7.8</td>\n",
       "    </tr>\n",
       "  </tbody>\n",
       "</table>\n",
       "<p>39414 rows × 7 columns</p>\n",
       "</div>"
      ],
      "text/plain": [
       "       Data_No  Differential_pressure  Flow_rate  Time   Dust_feed  \\\n",
       "0            1               0.271267  52.281993   0.1  236.428943   \n",
       "1            1               0.361690  54.986671   0.2  236.428943   \n",
       "2            1               0.000000  55.424786   0.3  236.428943   \n",
       "3            1               2.622251  55.524146   0.4  236.428943   \n",
       "4            1               3.888165  55.852018   0.5  236.428943   \n",
       "...        ...                    ...        ...   ...         ...   \n",
       "39409       50             465.494800  82.675521  52.0  316.985065   \n",
       "39410       50             464.228900  82.421873  52.1  316.985065   \n",
       "39411       50             466.037300  82.743156  52.2  316.985065   \n",
       "39412       50             472.276500  82.785427  52.3  316.985065   \n",
       "39413       50             474.175400  83.013710  52.4  316.985065   \n",
       "\n",
       "                                   Dust   RUL  \n",
       "0      ISO 12103-1, A3 Medium Test Dust  58.9  \n",
       "1      ISO 12103-1, A3 Medium Test Dust  58.8  \n",
       "2      ISO 12103-1, A3 Medium Test Dust  58.7  \n",
       "3      ISO 12103-1, A3 Medium Test Dust  58.6  \n",
       "4      ISO 12103-1, A3 Medium Test Dust  58.5  \n",
       "...                                 ...   ...  \n",
       "39409  ISO 12103-1, A4 Coarse Test Dust   8.2  \n",
       "39410  ISO 12103-1, A4 Coarse Test Dust   8.1  \n",
       "39411  ISO 12103-1, A4 Coarse Test Dust   8.0  \n",
       "39412  ISO 12103-1, A4 Coarse Test Dust   7.9  \n",
       "39413  ISO 12103-1, A4 Coarse Test Dust   7.8  \n",
       "\n",
       "[39414 rows x 7 columns]"
      ]
     },
     "execution_count": 54,
     "metadata": {},
     "output_type": "execute_result"
    }
   ],
   "source": [
    "df=pd.read_csv('Test_Data_CSV.csv')\n",
    "df"
   ]
  },
  {
   "cell_type": "markdown",
   "id": "fb57ee18",
   "metadata": {},
   "source": [
    "# 3)EXPLORATORY DATA ANALYSIS"
   ]
  },
  {
   "cell_type": "code",
   "execution_count": 55,
   "id": "6bc7269f",
   "metadata": {},
   "outputs": [
    {
     "name": "stdout",
     "output_type": "stream",
     "text": [
      "<class 'pandas.core.frame.DataFrame'>\n",
      "RangeIndex: 39414 entries, 0 to 39413\n",
      "Data columns (total 7 columns):\n",
      " #   Column                 Non-Null Count  Dtype  \n",
      "---  ------                 --------------  -----  \n",
      " 0   Data_No                39414 non-null  int64  \n",
      " 1   Differential_pressure  39414 non-null  float64\n",
      " 2   Flow_rate              39414 non-null  float64\n",
      " 3   Time                   39414 non-null  float64\n",
      " 4   Dust_feed              39414 non-null  float64\n",
      " 5   Dust                   39414 non-null  object \n",
      " 6   RUL                    39414 non-null  float64\n",
      "dtypes: float64(5), int64(1), object(1)\n",
      "memory usage: 2.1+ MB\n"
     ]
    }
   ],
   "source": [
    "#CHECKING DETAILS OF THE DATASET\n",
    "df.info()"
   ]
  },
  {
   "cell_type": "code",
   "execution_count": 56,
   "id": "184d6ea6",
   "metadata": {},
   "outputs": [],
   "source": [
    "#Column 'Dust' is an object"
   ]
  },
  {
   "cell_type": "code",
   "execution_count": 57,
   "id": "68f91ffb",
   "metadata": {},
   "outputs": [
    {
     "data": {
      "text/html": [
       "<div>\n",
       "<style scoped>\n",
       "    .dataframe tbody tr th:only-of-type {\n",
       "        vertical-align: middle;\n",
       "    }\n",
       "\n",
       "    .dataframe tbody tr th {\n",
       "        vertical-align: top;\n",
       "    }\n",
       "\n",
       "    .dataframe thead th {\n",
       "        text-align: right;\n",
       "    }\n",
       "</style>\n",
       "<table border=\"1\" class=\"dataframe\">\n",
       "  <thead>\n",
       "    <tr style=\"text-align: right;\">\n",
       "      <th></th>\n",
       "      <th>Data_No</th>\n",
       "      <th>Differential_pressure</th>\n",
       "      <th>Flow_rate</th>\n",
       "      <th>Time</th>\n",
       "      <th>Dust_feed</th>\n",
       "      <th>RUL</th>\n",
       "    </tr>\n",
       "  </thead>\n",
       "  <tbody>\n",
       "    <tr>\n",
       "      <th>count</th>\n",
       "      <td>39414.000000</td>\n",
       "      <td>39414.000000</td>\n",
       "      <td>39414.000000</td>\n",
       "      <td>39414.000000</td>\n",
       "      <td>39414.000000</td>\n",
       "      <td>39414.000000</td>\n",
       "    </tr>\n",
       "    <tr>\n",
       "      <th>mean</th>\n",
       "      <td>24.448775</td>\n",
       "      <td>93.204439</td>\n",
       "      <td>73.172012</td>\n",
       "      <td>67.377812</td>\n",
       "      <td>126.295097</td>\n",
       "      <td>111.489605</td>\n",
       "    </tr>\n",
       "    <tr>\n",
       "      <th>std</th>\n",
       "      <td>12.689146</td>\n",
       "      <td>120.463934</td>\n",
       "      <td>11.400250</td>\n",
       "      <td>61.810131</td>\n",
       "      <td>80.632092</td>\n",
       "      <td>74.140618</td>\n",
       "    </tr>\n",
       "    <tr>\n",
       "      <th>min</th>\n",
       "      <td>1.000000</td>\n",
       "      <td>0.000000</td>\n",
       "      <td>0.000000</td>\n",
       "      <td>0.100000</td>\n",
       "      <td>59.107236</td>\n",
       "      <td>1.900000</td>\n",
       "    </tr>\n",
       "    <tr>\n",
       "      <th>25%</th>\n",
       "      <td>15.000000</td>\n",
       "      <td>12.478300</td>\n",
       "      <td>58.634074</td>\n",
       "      <td>19.900000</td>\n",
       "      <td>59.107236</td>\n",
       "      <td>50.500000</td>\n",
       "    </tr>\n",
       "    <tr>\n",
       "      <th>50%</th>\n",
       "      <td>24.000000</td>\n",
       "      <td>41.503910</td>\n",
       "      <td>80.717290</td>\n",
       "      <td>45.900000</td>\n",
       "      <td>79.246266</td>\n",
       "      <td>93.500000</td>\n",
       "    </tr>\n",
       "    <tr>\n",
       "      <th>75%</th>\n",
       "      <td>31.000000</td>\n",
       "      <td>123.878800</td>\n",
       "      <td>81.711670</td>\n",
       "      <td>99.100000</td>\n",
       "      <td>158.492533</td>\n",
       "      <td>163.700000</td>\n",
       "    </tr>\n",
       "    <tr>\n",
       "      <th>max</th>\n",
       "      <td>50.000000</td>\n",
       "      <td>574.996400</td>\n",
       "      <td>84.244737</td>\n",
       "      <td>258.100000</td>\n",
       "      <td>316.985065</td>\n",
       "      <td>335.100000</td>\n",
       "    </tr>\n",
       "  </tbody>\n",
       "</table>\n",
       "</div>"
      ],
      "text/plain": [
       "            Data_No  Differential_pressure     Flow_rate          Time  \\\n",
       "count  39414.000000           39414.000000  39414.000000  39414.000000   \n",
       "mean      24.448775              93.204439     73.172012     67.377812   \n",
       "std       12.689146             120.463934     11.400250     61.810131   \n",
       "min        1.000000               0.000000      0.000000      0.100000   \n",
       "25%       15.000000              12.478300     58.634074     19.900000   \n",
       "50%       24.000000              41.503910     80.717290     45.900000   \n",
       "75%       31.000000             123.878800     81.711670     99.100000   \n",
       "max       50.000000             574.996400     84.244737    258.100000   \n",
       "\n",
       "          Dust_feed           RUL  \n",
       "count  39414.000000  39414.000000  \n",
       "mean     126.295097    111.489605  \n",
       "std       80.632092     74.140618  \n",
       "min       59.107236      1.900000  \n",
       "25%       59.107236     50.500000  \n",
       "50%       79.246266     93.500000  \n",
       "75%      158.492533    163.700000  \n",
       "max      316.985065    335.100000  "
      ]
     },
     "execution_count": 57,
     "metadata": {},
     "output_type": "execute_result"
    }
   ],
   "source": [
    "#CHECKING STATISTICAL DETAILS OF THE DATASET\n",
    "df.describe()"
   ]
  },
  {
   "cell_type": "code",
   "execution_count": 58,
   "id": "67674980",
   "metadata": {},
   "outputs": [
    {
     "data": {
      "text/plain": [
       "Data_No                  0.0\n",
       "Differential_pressure    0.0\n",
       "Flow_rate                0.0\n",
       "Time                     0.0\n",
       "Dust_feed                0.0\n",
       "Dust                     0.0\n",
       "RUL                      0.0\n",
       "dtype: float64"
      ]
     },
     "execution_count": 58,
     "metadata": {},
     "output_type": "execute_result"
    }
   ],
   "source": [
    "#CHECKING NULL VALUES IN THE DATASET\n",
    "df.isna().mean()*100"
   ]
  },
  {
   "cell_type": "code",
   "execution_count": 59,
   "id": "7eb259a0",
   "metadata": {},
   "outputs": [
    {
     "data": {
      "text/plain": [
       "(39414, 7)"
      ]
     },
     "execution_count": 59,
     "metadata": {},
     "output_type": "execute_result"
    }
   ],
   "source": [
    "#SIZE OF DATASET\n",
    "df.shape"
   ]
  },
  {
   "cell_type": "code",
   "execution_count": 60,
   "id": "6208df96",
   "metadata": {},
   "outputs": [
    {
     "data": {
      "text/plain": [
       "<AxesSubplot:>"
      ]
     },
     "execution_count": 60,
     "metadata": {},
     "output_type": "execute_result"
    },
    {
     "data": {
      "image/png": "[encoded data removed]",
      "text/plain": [
       "<Figure size 720x360 with 2 Axes>"
      ]
     },
     "metadata": {
      "needs_background": "light"
     },
     "output_type": "display_data"
    }
   ],
   "source": [
    "plt.figure(figsize=(10,5))\n",
    "sns.heatmap(df.corr())"
   ]
  },
  {
   "cell_type": "markdown",
   "id": "f3460a93",
   "metadata": {},
   "source": [
    "# 4)FEATURE ENGINEERING"
   ]
  },
  {
   "cell_type": "code",
   "execution_count": 61,
   "id": "1a209aba",
   "metadata": {},
   "outputs": [
    {
     "data": {
      "text/plain": [
       "array(['ISO 12103-1, A3 Medium Test Dust',\n",
       "       'ISO 12103-1, A2 Fine Test Dust',\n",
       "       'ISO 12103-1, A4 Coarse Test Dust'], dtype=object)"
      ]
     },
     "execution_count": 61,
     "metadata": {},
     "output_type": "execute_result"
    }
   ],
   "source": [
    "#COLUMN \"DUST\" IS AN OBJECT.THEREFORE TRANFROMING IT TO ORDINAL ENCODED VALUES\n",
    "df['Dust'].unique()"
   ]
  },
  {
   "cell_type": "code",
   "execution_count": 62,
   "id": "615e101d",
   "metadata": {},
   "outputs": [
    {
     "data": {
      "text/plain": [
       "{'ISO 12103-1, A3 Medium Test Dust': 18883,\n",
       " 'ISO 12103-1, A4 Coarse Test Dust': 14705,\n",
       " 'ISO 12103-1, A2 Fine Test Dust': 5826}"
      ]
     },
     "execution_count": 62,
     "metadata": {},
     "output_type": "execute_result"
    }
   ],
   "source": [
    "df['Dust'].value_counts().to_dict()"
   ]
  },
  {
   "cell_type": "code",
   "execution_count": 63,
   "id": "c0549d22",
   "metadata": {},
   "outputs": [],
   "source": [
    "df['Dust'].replace({'ISO 12103-1, A3 Medium Test Dust': 1,\n",
    " 'ISO 12103-1, A4 Coarse Test Dust': 0,\n",
    " 'ISO 12103-1, A2 Fine Test Dust': 2},inplace=True)"
   ]
  },
  {
   "cell_type": "markdown",
   "id": "18b5d500",
   "metadata": {},
   "source": [
    "# 5)FEATURE SELECTION"
   ]
  },
  {
   "cell_type": "code",
   "execution_count": 64,
   "id": "a896a405",
   "metadata": {},
   "outputs": [],
   "source": [
    "#USING ALL FEATURES INITIALLY "
   ]
  },
  {
   "cell_type": "code",
   "execution_count": 65,
   "id": "9fddbda0",
   "metadata": {},
   "outputs": [],
   "source": [
    "#TRAIN TEST SPLIT\n",
    "x=df.drop('RUL',axis=1)\n",
    "y=df['RUL']\n",
    "x_train,x_test,y_train,y_test=train_test_split(x,y,test_size=0.3,random_state=5)"
   ]
  },
  {
   "cell_type": "markdown",
   "id": "3b0e4158",
   "metadata": {},
   "source": [
    "# 6)MODEL TRAINING"
   ]
  },
  {
   "cell_type": "markdown",
   "id": "0ec7619c",
   "metadata": {},
   "source": [
    "### USING LINEAR REGRESSION"
   ]
  },
  {
   "cell_type": "code",
   "execution_count": 66,
   "id": "771968e8",
   "metadata": {},
   "outputs": [
    {
     "data": {
      "text/plain": [
       "LinearRegression()"
      ]
     },
     "execution_count": 66,
     "metadata": {},
     "output_type": "execute_result"
    }
   ],
   "source": [
    "lr_reg=LinearRegression()\n",
    "lr_reg.fit(x_train,y_train)"
   ]
  },
  {
   "cell_type": "code",
   "execution_count": 67,
   "id": "b3f0fb2a",
   "metadata": {},
   "outputs": [
    {
     "name": "stdout",
     "output_type": "stream",
     "text": [
      "y-intercept==249.2336509345592\n",
      "coefficient==[ -0.07801395  -0.19180641   0.25821572  -0.39447737  -0.70293886\n",
      " -27.80490389]\n"
     ]
    }
   ],
   "source": [
    "#CALCULATING COEFFICIENTS AND Y-INTERCEPT\n",
    "print(f'y-intercept=={lr_reg.intercept_}')\n",
    "print(f'coefficient=={lr_reg.coef_}')"
   ]
  },
  {
   "cell_type": "markdown",
   "id": "581b43db",
   "metadata": {},
   "source": [
    "# 7)MODEL EVALUATION"
   ]
  },
  {
   "cell_type": "code",
   "execution_count": 68,
   "id": "6bc25b67",
   "metadata": {},
   "outputs": [],
   "source": [
    "def train_test_data(y_actual,y_pred):\n",
    "    mse=mean_squared_error(y_actual,y_pred)\n",
    "    print(f\"mean_squared_error=={mse}\")\n",
    "    rmse=np.sqrt(mse)\n",
    "    print(f\"root mean_squared_error=={rmse}\")\n",
    "    mae=mean_absolute_error(y_actual,y_pred)\n",
    "    print(f\"mean_absolute_error=={mae}\")\n",
    "    r2=r2_score(y_actual,y_pred)\n",
    "    print(f\"r2_score=={r2}\")\n",
    "    return \"metrics calculated\""
   ]
  },
  {
   "cell_type": "code",
   "execution_count": 69,
   "id": "5ebd6ec1",
   "metadata": {},
   "outputs": [
    {
     "name": "stdout",
     "output_type": "stream",
     "text": [
      "mean_squared_error==1227.6033908714298\n",
      "root mean_squared_error==35.037171559237336\n",
      "mean_absolute_error==27.521346519394317\n",
      "r2_score==0.7793305821514308\n"
     ]
    },
    {
     "data": {
      "text/plain": [
       "'metrics calculated'"
      ]
     },
     "execution_count": 69,
     "metadata": {},
     "output_type": "execute_result"
    }
   ],
   "source": [
    "#TESTING DATASET\n",
    "y_pred_test=lr_reg.predict(x_test)\n",
    "train_test_data(y_test,y_pred_test)"
   ]
  },
  {
   "cell_type": "code",
   "execution_count": 70,
   "id": "b3a38ed4",
   "metadata": {},
   "outputs": [
    {
     "name": "stdout",
     "output_type": "stream",
     "text": [
      "mean_squared_error==1229.6724783528616\n",
      "root mean_squared_error==35.06668616155313\n",
      "mean_absolute_error==27.681473932921737\n",
      "r2_score==0.7751231980631283\n"
     ]
    },
    {
     "data": {
      "text/plain": [
       "'metrics calculated'"
      ]
     },
     "execution_count": 70,
     "metadata": {},
     "output_type": "execute_result"
    }
   ],
   "source": [
    "#TRAINING DATASET\n",
    "y_pred_train=lr_reg.predict(x_train)\n",
    "train_test_data(y_train,y_pred_train)"
   ]
  },
  {
   "cell_type": "raw",
   "id": "c11136d9",
   "metadata": {},
   "source": [
    "#OBSERVATION FOR LR MODEL:-\n",
    "\n",
    "TRAINING DATASET>>>\n",
    "r2_score==0.7751231980631283\n",
    "\n",
    "TESTING DATASET>>>>\n",
    "r2_score==0.7793305821514308\n",
    "\n",
    "HIGH BIAS AND LOW VARIANCE>>>UNDERFIT MODEL\n",
    "\n",
    "DROP THE MODEL\n"
   ]
  },
  {
   "cell_type": "markdown",
   "id": "4d25ad32",
   "metadata": {},
   "source": [
    "### USING KNEIGHBORS REGRESSION"
   ]
  },
  {
   "cell_type": "code",
   "execution_count": 71,
   "id": "f77e555e",
   "metadata": {},
   "outputs": [
    {
     "data": {
      "text/plain": [
       "Index(['Data_No', 'Differential_pressure', 'Flow_rate', 'Time', 'Dust_feed',\n",
       "       'Dust', 'RUL'],\n",
       "      dtype='object')"
      ]
     },
     "execution_count": 71,
     "metadata": {},
     "output_type": "execute_result"
    }
   ],
   "source": [
    "df.columns"
   ]
  },
  {
   "cell_type": "markdown",
   "id": "43249a0a",
   "metadata": {},
   "source": [
    "# 5)FEATURE ENGINEERING-FEATURE SCALING"
   ]
  },
  {
   "cell_type": "code",
   "execution_count": 72,
   "id": "faded735",
   "metadata": {},
   "outputs": [
    {
     "data": {
      "text/plain": [
       "<AxesSubplot:xlabel='Data_No', ylabel='Density'>"
      ]
     },
     "execution_count": 72,
     "metadata": {},
     "output_type": "execute_result"
    },
    {
     "data": {
      "image/png": "[encoded data removed]",
      "text/plain": [
       "<Figure size 432x288 with 1 Axes>"
      ]
     },
     "metadata": {
      "needs_background": "light"
     },
     "output_type": "display_data"
    }
   ],
   "source": [
    "#CHECKING HOW DATA IS DISTRIBUTED\n",
    "sns.kdeplot(df['Data_No'],fill=True)"
   ]
  },
  {
   "cell_type": "code",
   "execution_count": 73,
   "id": "b529b5f8",
   "metadata": {},
   "outputs": [
    {
     "data": {
      "text/plain": [
       "<AxesSubplot:xlabel='Differential_pressure', ylabel='Density'>"
      ]
     },
     "execution_count": 73,
     "metadata": {},
     "output_type": "execute_result"
    },
    {
     "data": {
      "image/png": "[encoded data removed]",
      "text/plain": [
       "<Figure size 432x288 with 1 Axes>"
      ]
     },
     "metadata": {
      "needs_background": "light"
     },
     "output_type": "display_data"
    }
   ],
   "source": [
    "sns.kdeplot(df['Differential_pressure'],fill=True)"
   ]
  },
  {
   "cell_type": "code",
   "execution_count": 74,
   "id": "c513a8b6",
   "metadata": {},
   "outputs": [
    {
     "data": {
      "text/plain": [
       "<AxesSubplot:xlabel='Flow_rate', ylabel='Density'>"
      ]
     },
     "execution_count": 74,
     "metadata": {},
     "output_type": "execute_result"
    },
    {
     "data": {
      "image/png": "[encoded data removed]",
      "text/plain": [
       "<Figure size 432x288 with 1 Axes>"
      ]
     },
     "metadata": {
      "needs_background": "light"
     },
     "output_type": "display_data"
    }
   ],
   "source": [
    "sns.kdeplot(df['Flow_rate'],fill=True)"
   ]
  },
  {
   "cell_type": "code",
   "execution_count": 75,
   "id": "74e76ff8",
   "metadata": {},
   "outputs": [
    {
     "data": {
      "text/plain": [
       "<AxesSubplot:xlabel='Time', ylabel='Density'>"
      ]
     },
     "execution_count": 75,
     "metadata": {},
     "output_type": "execute_result"
    },
    {
     "data": {
      "image/png": "[encoded data removed]",
      "text/plain": [
       "<Figure size 432x288 with 1 Axes>"
      ]
     },
     "metadata": {
      "needs_background": "light"
     },
     "output_type": "display_data"
    }
   ],
   "source": [
    "sns.kdeplot(df['Time'],fill=True)"
   ]
  },
  {
   "cell_type": "code",
   "execution_count": 76,
   "id": "f1d3f15c",
   "metadata": {},
   "outputs": [
    {
     "data": {
      "text/plain": [
       "<AxesSubplot:xlabel='Dust_feed', ylabel='Density'>"
      ]
     },
     "execution_count": 76,
     "metadata": {},
     "output_type": "execute_result"
    },
    {
     "data": {
      "image/png": "[encoded data removed]",
      "text/plain": [
       "<Figure size 432x288 with 1 Axes>"
      ]
     },
     "metadata": {
      "needs_background": "light"
     },
     "output_type": "display_data"
    }
   ],
   "source": [
    "sns.kdeplot(df['Dust_feed'],fill=True)"
   ]
  },
  {
   "cell_type": "code",
   "execution_count": 77,
   "id": "833a0d7b",
   "metadata": {},
   "outputs": [
    {
     "data": {
      "text/plain": [
       "<AxesSubplot:xlabel='Dust', ylabel='Density'>"
      ]
     },
     "execution_count": 77,
     "metadata": {},
     "output_type": "execute_result"
    },
    {
     "data": {
      "image/png": "[encoded data removed]",
      "text/plain": [
       "<Figure size 432x288 with 1 Axes>"
      ]
     },
     "metadata": {
      "needs_background": "light"
     },
     "output_type": "display_data"
    }
   ],
   "source": [
    "sns.kdeplot(df['Dust'],fill=True)"
   ]
  },
  {
   "cell_type": "code",
   "execution_count": 78,
   "id": "c22074c6",
   "metadata": {},
   "outputs": [],
   "source": [
    "#SINCE DATA IS NOT NORMALLY DISTRIBUTED WE WILL USE NORMALIZATION\n",
    "norm=MinMaxScaler()\n",
    "x_train_trf=norm.fit_transform(x_train)\n",
    "x_test_trf=norm.transform(x_test)"
   ]
  },
  {
   "cell_type": "code",
   "execution_count": 79,
   "id": "b327b6e4",
   "metadata": {},
   "outputs": [
    {
     "data": {
      "text/plain": [
       "array([[0.65306122, 0.32725266, 0.97163814, 0.23604651, 0.38539683,\n",
       "        0.        ],\n",
       "       [0.57142857, 0.18320497, 0.96662011, 0.65503876, 0.        ,\n",
       "        0.        ],\n",
       "       [0.57142857, 0.09466898, 0.9648136 , 0.49031008, 0.        ,\n",
       "        0.        ],\n",
       "       ...,\n",
       "       [0.59183673, 0.15694291, 0.96611835, 0.6       , 0.        ,\n",
       "        0.        ],\n",
       "       [0.51020408, 0.        , 0.69156799, 0.04379845, 0.69269841,\n",
       "        0.5       ],\n",
       "       [0.14285714, 0.01651203, 0.68961402, 0.02596899, 0.38539683,\n",
       "        0.5       ]])"
      ]
     },
     "execution_count": 79,
     "metadata": {},
     "output_type": "execute_result"
    }
   ],
   "source": [
    "x_test_trf"
   ]
  },
  {
   "cell_type": "code",
   "execution_count": 80,
   "id": "04e20ce8",
   "metadata": {},
   "outputs": [
    {
     "data": {
      "text/plain": [
       "array([[0.55102041, 0.07705613, 0.98825566, 0.38294574, 0.        ,\n",
       "        0.        ],\n",
       "       [0.55102041, 0.3354301 , 0.97836228, 0.70658915, 0.        ,\n",
       "        0.        ],\n",
       "       [0.57142857, 0.20946688, 0.9613937 , 0.7       , 0.        ,\n",
       "        0.        ],\n",
       "       ...,\n",
       "       [0.51020408, 0.        , 0.68805084, 0.06511628, 0.69269841,\n",
       "        0.5       ],\n",
       "       [0.44897959, 0.02641924, 0.69378244, 0.08914729, 0.22920635,\n",
       "        0.5       ],\n",
       "       [0.89795918, 0.20569277, 0.70806832, 0.09341085, 0.4584127 ,\n",
       "        1.        ]])"
      ]
     },
     "execution_count": 80,
     "metadata": {},
     "output_type": "execute_result"
    }
   ],
   "source": [
    "x_train_trf"
   ]
  },
  {
   "cell_type": "markdown",
   "id": "a13d8447",
   "metadata": {},
   "source": [
    "# 6)MODEL TRAINING"
   ]
  },
  {
   "cell_type": "code",
   "execution_count": 81,
   "id": "5adde24e",
   "metadata": {},
   "outputs": [
    {
     "data": {
      "text/plain": [
       "KNeighborsRegressor()"
      ]
     },
     "execution_count": 81,
     "metadata": {},
     "output_type": "execute_result"
    }
   ],
   "source": [
    "knn_reg=KNeighborsRegressor()\n",
    "knn_reg.fit(x_train_trf,y_train)"
   ]
  },
  {
   "cell_type": "markdown",
   "id": "6823c173",
   "metadata": {},
   "source": [
    "# 7)MODEL EVALUATION"
   ]
  },
  {
   "cell_type": "code",
   "execution_count": 82,
   "id": "7257fc4e",
   "metadata": {},
   "outputs": [
    {
     "name": "stdout",
     "output_type": "stream",
     "text": [
      "mean_squared_error==2.7318848541226224\n",
      "root mean_squared_error==1.6528414485735232\n",
      "mean_absolute_error==0.33204566596194507\n",
      "r2_score==0.9995089265434819\n"
     ]
    },
    {
     "data": {
      "text/plain": [
       "'metrics calculated'"
      ]
     },
     "execution_count": 82,
     "metadata": {},
     "output_type": "execute_result"
    }
   ],
   "source": [
    "#TESTING DATA\n",
    "y_pred_test_knn=knn_reg.predict(x_test_trf)\n",
    "train_test_data(y_test,y_pred_test_knn)"
   ]
  },
  {
   "cell_type": "code",
   "execution_count": 83,
   "id": "23f9aebd",
   "metadata": {},
   "outputs": [
    {
     "name": "stdout",
     "output_type": "stream",
     "text": [
      "mean_squared_error==1.768499851390047\n",
      "root mean_squared_error==1.3298495596833677\n",
      "mean_absolute_error==0.26366740367537794\n",
      "r2_score==0.9996765849461483\n"
     ]
    },
    {
     "data": {
      "text/plain": [
       "'metrics calculated'"
      ]
     },
     "execution_count": 83,
     "metadata": {},
     "output_type": "execute_result"
    }
   ],
   "source": [
    "#TRAINING DATA\n",
    "y_pred_train_knn=knn_reg.predict(x_train_trf)\n",
    "train_test_data(y_train,y_pred_train_knn)"
   ]
  },
  {
   "cell_type": "raw",
   "id": "00ec10fe",
   "metadata": {},
   "source": [
    "#OBSERVATION FOR KNN MODEL:-\n",
    "\n",
    "TRAINING DATASET>>>\n",
    "r2_score==0.9996765849461483\n",
    "\n",
    "TESTING DATASET>>>>\n",
    "r2_score==0.9995089265434819\n",
    "\n",
    "LOW BIAS AND LOW VARIANCE>>>GENERALIZED MODEL\n",
    "\n",
    "CAN BE SELECTED "
   ]
  },
  {
   "cell_type": "markdown",
   "id": "b8cb3480",
   "metadata": {},
   "source": [
    "### USING DECISION TREE REGRESSION"
   ]
  },
  {
   "cell_type": "markdown",
   "id": "3b6b2845",
   "metadata": {},
   "source": [
    "# 6)MODEL TRAINING"
   ]
  },
  {
   "cell_type": "code",
   "execution_count": 84,
   "id": "f73133a0",
   "metadata": {},
   "outputs": [
    {
     "data": {
      "text/plain": [
       "DecisionTreeRegressor(random_state=10)"
      ]
     },
     "execution_count": 84,
     "metadata": {},
     "output_type": "execute_result"
    }
   ],
   "source": [
    "dt_reg=DecisionTreeRegressor(random_state=10)\n",
    "dt_reg.fit(x_train,y_train)"
   ]
  },
  {
   "cell_type": "markdown",
   "id": "4058b78d",
   "metadata": {},
   "source": [
    "# 7)MODEL EVALUATION"
   ]
  },
  {
   "cell_type": "code",
   "execution_count": 85,
   "id": "668d12a1",
   "metadata": {},
   "outputs": [
    {
     "name": "stdout",
     "output_type": "stream",
     "text": [
      "mean_squared_error==1.6168389006342496\n",
      "root mean_squared_error==1.2715498026558967\n",
      "mean_absolute_error==0.28319661733615215\n",
      "r2_score==0.9997093630551928\n"
     ]
    },
    {
     "data": {
      "text/plain": [
       "'metrics calculated'"
      ]
     },
     "execution_count": 85,
     "metadata": {},
     "output_type": "execute_result"
    }
   ],
   "source": [
    "#TESTING DATA\n",
    "y_pred_test_dt=dt_reg.predict(x_test)\n",
    "train_test_data(y_test,y_pred_test_dt)"
   ]
  },
  {
   "cell_type": "code",
   "execution_count": 86,
   "id": "30011932",
   "metadata": {},
   "outputs": [
    {
     "name": "stdout",
     "output_type": "stream",
     "text": [
      "mean_squared_error==3.4311975289615938e-34\n",
      "root mean_squared_error==1.8523491919618164e-17\n",
      "mean_absolute_error==1.93159248910825e-19\n",
      "r2_score==1.0\n"
     ]
    },
    {
     "data": {
      "text/plain": [
       "'metrics calculated'"
      ]
     },
     "execution_count": 86,
     "metadata": {},
     "output_type": "execute_result"
    }
   ],
   "source": [
    "#TRAINING DATA\n",
    "y_pred_train_dt=dt_reg.predict(x_train)\n",
    "train_test_data(y_train,y_pred_train_dt)"
   ]
  },
  {
   "cell_type": "raw",
   "id": "ab46791a",
   "metadata": {},
   "source": [
    "#OBSERVATION FOR DECISION TREE MODEL:-\n",
    "\n",
    "TRAINING DATASET>>>\n",
    "r2_score==1.0\n",
    "\n",
    "TESTING DATASET>>>>\n",
    "r2_score==0.9997238729212424\n",
    "\n",
    "LOW BIAS AND LOW VARIANCE>>>OVERFIT MODEL AS TRAINING ACCURACY IS 100%\n",
    "\n",
    "THEREFORE HYPERPARAMETER TUNING IS NEEDED TO PERFORM"
   ]
  },
  {
   "cell_type": "code",
   "execution_count": 87,
   "id": "0d82dd32",
   "metadata": {},
   "outputs": [],
   "source": [
    "#DECISION TREE HYPERPARAMETER TRAINING\n",
    "dt_reg_hyp=DecisionTreeRegressor()\n",
    "hyp={'criterion':['squared_error','absolute_error'],\n",
    "     'max_depth':np.arange(5,10),\n",
    "     'min_samples_split':np.arange(2,15),\n",
    "     'min_samples_leaf':np.arange(1,10),\n",
    "     'random_state':np.arange(2,10),\n",
    "     }"
   ]
  },
  {
   "cell_type": "code",
   "execution_count": 88,
   "id": "43e68f1a",
   "metadata": {},
   "outputs": [
    {
     "data": {
      "text/plain": [
       "RandomizedSearchCV(cv=5, estimator=DecisionTreeRegressor(),\n",
       "                   param_distributions={'criterion': ['squared_error',\n",
       "                                                      'absolute_error'],\n",
       "                                        'max_depth': array([5, 6, 7, 8, 9]),\n",
       "                                        'min_samples_leaf': array([1, 2, 3, 4, 5, 6, 7, 8, 9]),\n",
       "                                        'min_samples_split': array([ 2,  3,  4,  5,  6,  7,  8,  9, 10, 11, 12, 13, 14]),\n",
       "                                        'random_state': array([2, 3, 4, 5, 6, 7, 8, 9])})"
      ]
     },
     "execution_count": 88,
     "metadata": {},
     "output_type": "execute_result"
    }
   ],
   "source": [
    "rscv=RandomizedSearchCV(dt_reg_hyp,hyp,cv=5)\n",
    "rscv.fit(x_train,y_train)"
   ]
  },
  {
   "cell_type": "code",
   "execution_count": 89,
   "id": "97291116",
   "metadata": {},
   "outputs": [
    {
     "data": {
      "text/plain": [
       "{'random_state': 3,\n",
       " 'min_samples_split': 4,\n",
       " 'min_samples_leaf': 4,\n",
       " 'max_depth': 9,\n",
       " 'criterion': 'squared_error'}"
      ]
     },
     "execution_count": 89,
     "metadata": {},
     "output_type": "execute_result"
    }
   ],
   "source": [
    "rscv.best_params_"
   ]
  },
  {
   "cell_type": "code",
   "execution_count": 90,
   "id": "6f8e0cf0",
   "metadata": {},
   "outputs": [
    {
     "data": {
      "text/plain": [
       "DecisionTreeRegressor(max_depth=9, min_samples_leaf=4, min_samples_split=4,\n",
       "                      random_state=3)"
      ]
     },
     "execution_count": 90,
     "metadata": {},
     "output_type": "execute_result"
    }
   ],
   "source": [
    "dt_hyp_model=rscv.best_estimator_\n",
    "dt_hyp_model.fit(x_train,y_train)"
   ]
  },
  {
   "cell_type": "code",
   "execution_count": 91,
   "id": "d4a3ac8a",
   "metadata": {},
   "outputs": [
    {
     "name": "stdout",
     "output_type": "stream",
     "text": [
      "mean_squared_error==39.15592214583304\n",
      "root mean_squared_error==6.25746930842118\n",
      "mean_absolute_error==3.8623307714981863\n",
      "r2_score==0.9929614771273063\n"
     ]
    },
    {
     "data": {
      "text/plain": [
       "'metrics calculated'"
      ]
     },
     "execution_count": 91,
     "metadata": {},
     "output_type": "execute_result"
    }
   ],
   "source": [
    "y_pred_test_dt_hyp=dt_hyp_model.predict(x_test)\n",
    "train_test_data(y_test,y_pred_test_dt_hyp)"
   ]
  },
  {
   "cell_type": "code",
   "execution_count": 92,
   "id": "1caab178",
   "metadata": {},
   "outputs": [
    {
     "name": "stdout",
     "output_type": "stream",
     "text": [
      "mean_squared_error==36.07505725462786\n",
      "root mean_squared_error==6.00625151443293\n",
      "mean_absolute_error==3.706014425058817\n",
      "r2_score==0.9934027607774252\n"
     ]
    },
    {
     "data": {
      "text/plain": [
       "'metrics calculated'"
      ]
     },
     "execution_count": 92,
     "metadata": {},
     "output_type": "execute_result"
    }
   ],
   "source": [
    "y_pred_train_dt_hyp=dt_hyp_model.predict(x_train)\n",
    "train_test_data(y_train,y_pred_train_dt_hyp)"
   ]
  },
  {
   "cell_type": "raw",
   "id": "0695bf7b",
   "metadata": {},
   "source": [
    "#OBSERVATION FOR HYPERPARAMETER DECISION TREE MODEL:-\n",
    "\n",
    "TRAINING DATASET>>>\n",
    "r2_score==0.9933246639138513\n",
    "TESTING DATASET>>>>\n",
    "r2_score==0.9928558426343164\n",
    "\n",
    "LOW BIAS AND LOW VARIANCE>>>GENERALIZED MODEL\n",
    "\n",
    "CAN BE SELECTED "
   ]
  },
  {
   "cell_type": "markdown",
   "id": "ae495697",
   "metadata": {},
   "source": [
    "### USING RANDOM FOREST REGRESSOR"
   ]
  },
  {
   "cell_type": "markdown",
   "id": "1c5a7f26",
   "metadata": {},
   "source": [
    "# 6)MODEL TRAINING"
   ]
  },
  {
   "cell_type": "code",
   "execution_count": 93,
   "id": "2801fbd5",
   "metadata": {},
   "outputs": [
    {
     "data": {
      "text/plain": [
       "RandomForestRegressor(random_state=9)"
      ]
     },
     "execution_count": 93,
     "metadata": {},
     "output_type": "execute_result"
    }
   ],
   "source": [
    "rf_reg=RandomForestRegressor(random_state=9)\n",
    "rf_reg.fit(x_train,y_train)"
   ]
  },
  {
   "cell_type": "markdown",
   "id": "db626596",
   "metadata": {},
   "source": [
    "# 7)MODEL EVALUATION"
   ]
  },
  {
   "cell_type": "code",
   "execution_count": 94,
   "id": "f11067b5",
   "metadata": {},
   "outputs": [
    {
     "name": "stdout",
     "output_type": "stream",
     "text": [
      "mean_squared_error==0.887325443805501\n",
      "root mean_squared_error==0.9419795347063019\n",
      "mean_absolute_error==0.2543158562367874\n",
      "r2_score==0.9998404976798021\n"
     ]
    },
    {
     "data": {
      "text/plain": [
       "'metrics calculated'"
      ]
     },
     "execution_count": 94,
     "metadata": {},
     "output_type": "execute_result"
    }
   ],
   "source": [
    "y_pred_test_rf=rf_reg.predict(x_test)\n",
    "train_test_data(y_test,y_pred_test_rf)"
   ]
  },
  {
   "cell_type": "code",
   "execution_count": 95,
   "id": "fe62046b",
   "metadata": {},
   "outputs": [
    {
     "name": "stdout",
     "output_type": "stream",
     "text": [
      "mean_squared_error==0.1327038623726855\n",
      "root mean_squared_error==0.36428541334053643\n",
      "mean_absolute_error==0.09869437094494427\n",
      "r2_score==0.9999757317328798\n"
     ]
    },
    {
     "data": {
      "text/plain": [
       "'metrics calculated'"
      ]
     },
     "execution_count": 95,
     "metadata": {},
     "output_type": "execute_result"
    }
   ],
   "source": [
    "y_pred_train_rf=rf_reg.predict(x_train)\n",
    "train_test_data(y_train,y_pred_train_rf)"
   ]
  },
  {
   "cell_type": "raw",
   "id": "064c8526",
   "metadata": {},
   "source": [
    "#OBSERVATION FOR RANDOM FOREST MODEL:-\n",
    "\n",
    "TRAINING DATASET>>>\n",
    "r2_score==0.9999757317328798\n",
    "TESTING DATASET>>>>\n",
    "r2_score==0.9998404976798021\n",
    "\n",
    "LOW BIAS AND LOW VARIANCE>>>GENERALIZED MODEL\n",
    "\n",
    "CAN BE SELECTED "
   ]
  },
  {
   "cell_type": "markdown",
   "id": "e2eb0188",
   "metadata": {},
   "source": [
    "### USING ADABOOST REGRESSOR"
   ]
  },
  {
   "cell_type": "markdown",
   "id": "23a30c14",
   "metadata": {},
   "source": [
    "# 6)MODEL TRAINING"
   ]
  },
  {
   "cell_type": "code",
   "execution_count": 96,
   "id": "88026ee3",
   "metadata": {},
   "outputs": [
    {
     "data": {
      "text/plain": [
       "AdaBoostRegressor(random_state=5)"
      ]
     },
     "execution_count": 96,
     "metadata": {},
     "output_type": "execute_result"
    }
   ],
   "source": [
    "ab_reg=AdaBoostRegressor(random_state=5)\n",
    "ab_reg.fit(x_train,y_train)"
   ]
  },
  {
   "cell_type": "markdown",
   "id": "9bab1525",
   "metadata": {},
   "source": [
    "# 7)MODEL EVALUATION"
   ]
  },
  {
   "cell_type": "code",
   "execution_count": 97,
   "id": "da3346a7",
   "metadata": {},
   "outputs": [
    {
     "name": "stdout",
     "output_type": "stream",
     "text": [
      "mean_squared_error==299.0412733901292\n",
      "root mean_squared_error==17.292809875498232\n",
      "mean_absolute_error==14.256602193410867\n",
      "r2_score==0.946245453374928\n"
     ]
    },
    {
     "data": {
      "text/plain": [
       "'metrics calculated'"
      ]
     },
     "execution_count": 97,
     "metadata": {},
     "output_type": "execute_result"
    }
   ],
   "source": [
    "y_pred_test_ab=ab_reg.predict(x_test)\n",
    "train_test_data(y_test,y_pred_test_ab)"
   ]
  },
  {
   "cell_type": "code",
   "execution_count": 98,
   "id": "13f43b38",
   "metadata": {},
   "outputs": [
    {
     "name": "stdout",
     "output_type": "stream",
     "text": [
      "mean_squared_error==294.39287913862273\n",
      "root mean_squared_error==17.157880962945942\n",
      "mean_absolute_error==14.097598226059601\n",
      "r2_score==0.9461627951026774\n"
     ]
    },
    {
     "data": {
      "text/plain": [
       "'metrics calculated'"
      ]
     },
     "execution_count": 98,
     "metadata": {},
     "output_type": "execute_result"
    }
   ],
   "source": [
    "y_pred_train_ab=ab_reg.predict(x_train)\n",
    "train_test_data(y_train,y_pred_train_ab)"
   ]
  },
  {
   "cell_type": "raw",
   "id": "8a6ab482",
   "metadata": {},
   "source": [
    "#OBSERVATION FOR AdaBoostRegressor MODEL:-\n",
    "\n",
    "TRAINING DATASET>>>\n",
    "r2_score==0.9461627951026774\n",
    "TESTING DATASET>>>>\n",
    "r2_score==0.946245453374928\n",
    "\n",
    "LOW BIAS AND LOW VARIANCE>>>GENERALIZED MODEL\n",
    "\n",
    "CAN BE SELECTED "
   ]
  },
  {
   "cell_type": "code",
   "execution_count": 99,
   "id": "aeafc2b7",
   "metadata": {
    "scrolled": true
   },
   "outputs": [
    {
     "data": {
      "text/plain": [
       "<AxesSubplot:>"
      ]
     },
     "execution_count": 99,
     "metadata": {},
     "output_type": "execute_result"
    },
    {
     "data": {
      "image/png": "[encoded data removed]",
      "text/plain": [
       "<Figure size 432x288 with 1 Axes>"
      ]
     },
     "metadata": {
      "needs_background": "light"
     },
     "output_type": "display_data"
    }
   ],
   "source": [
    "df.boxplot()"
   ]
  },
  {
   "cell_type": "raw",
   "id": "367db67c",
   "metadata": {},
   "source": [
    "#WE CAN SELECT KNN OR DECISION TREE HYPERPARAMETER MODEL OR RANDOM FOREST BUT MODELS ARE OVERPERFORMING SINCE THEY ARE HIGHLY IMPACTED BY OUTLIERS.THEREFORE WE NEED TO HANDLE OUTLIERS."
   ]
  },
  {
   "cell_type": "code",
   "execution_count": 100,
   "id": "6780a8cc",
   "metadata": {},
   "outputs": [],
   "source": [
    "# #TO HANDLE OUTLIERS\n",
    "# def outliers(feature):\n",
    "#     q1=df[feature].quantile(0.25)\n",
    "#     q3=df[feature].quantile(0.75)\n",
    "#     iqr=q3-q1\n",
    "#     lower_fence=q3 + 1.5*iqr\n",
    "#     upper_fence=q1 - 1.5*iqr\n",
    "\n",
    "#     df[feature]=df[feature].loc[df[feature]>upper_fence]=upper_fence\n",
    "#     df[feature]=df[feature].loc[df[feature]<lower_fence]=lower_fence\n",
    "    \n",
    "#     return 'outlier detected'\n"
   ]
  },
  {
   "cell_type": "code",
   "execution_count": 101,
   "id": "aec46fdc",
   "metadata": {},
   "outputs": [
    {
     "data": {
      "text/plain": [
       "Index(['Data_No', 'Differential_pressure', 'Flow_rate', 'Time', 'Dust_feed',\n",
       "       'Dust'],\n",
       "      dtype='object')"
      ]
     },
     "execution_count": 101,
     "metadata": {},
     "output_type": "execute_result"
    }
   ],
   "source": [
    "x.columns"
   ]
  },
  {
   "cell_type": "code",
   "execution_count": 102,
   "id": "113413d3",
   "metadata": {},
   "outputs": [
    {
     "name": "stdout",
     "output_type": "stream",
     "text": [
      "12.4783\n",
      "123.8788\n",
      "111.4005\n",
      "-154.62245000000001\n",
      "290.97955\n"
     ]
    }
   ],
   "source": [
    "q1=df['Differential_pressure'].quantile(0.25)\n",
    "print(q1)\n",
    "q3=df['Differential_pressure'].quantile(0.75)\n",
    "print(q3)\n",
    "iqr=q3-q1\n",
    "print(iqr)\n",
    "lower_fence=q1 - 1.5*iqr\n",
    "print(lower_fence)\n",
    "upper_fence=q3 + 1.5*iqr\n",
    "print(upper_fence)"
   ]
  },
  {
   "cell_type": "code",
   "execution_count": 103,
   "id": "ab99c3f6",
   "metadata": {},
   "outputs": [],
   "source": [
    "# df['Differential_pressure'].loc[df['Differential_pressure']>upper_fence]"
   ]
  },
  {
   "cell_type": "code",
   "execution_count": 104,
   "id": "469890a9",
   "metadata": {},
   "outputs": [],
   "source": [
    "# df['Differential_pressure']=df['Differential_pressure'].loc[df['Differential_pressure']>upper_fence]=upper_fence"
   ]
  },
  {
   "cell_type": "code",
   "execution_count": 105,
   "id": "989b5ad5",
   "metadata": {},
   "outputs": [
    {
     "name": "stdout",
     "output_type": "stream",
     "text": [
      "capping the  Data_No\n"
     ]
    },
    {
     "name": "stderr",
     "output_type": "stream",
     "text": [
      "/var/folders/0l/j4wlrs2n2ds5rl5d9dmfz9zh0000gn/T/ipykernel_9056/3114529643.py:7: SettingWithCopyWarning: \n",
      "A value is trying to be set on a copy of a slice from a DataFrame\n",
      "\n",
      "See the caveats in the documentation: https://pandas.pydata.org/pandas-docs/stable/user_guide/indexing.html#returning-a-view-versus-a-copy\n",
      "  df[col][df[col] <= percentiles[0]] = percentiles[0]\n",
      "/var/folders/0l/j4wlrs2n2ds5rl5d9dmfz9zh0000gn/T/ipykernel_9056/3114529643.py:8: SettingWithCopyWarning: \n",
      "A value is trying to be set on a copy of a slice from a DataFrame\n",
      "\n",
      "See the caveats in the documentation: https://pandas.pydata.org/pandas-docs/stable/user_guide/indexing.html#returning-a-view-versus-a-copy\n",
      "  df[col][df[col] >= percentiles[1]] = percentiles[1]\n"
     ]
    },
    {
     "name": "stdout",
     "output_type": "stream",
     "text": [
      "capping the  Differential_pressure\n",
      "capping the  Flow_rate\n",
      "capping the  Time\n",
      "capping the  Dust_feed\n",
      "capping the  Dust\n"
     ]
    }
   ],
   "source": [
    "columns=df.iloc[:,:-1]\n",
    "def outlier(df):\n",
    "    for col in columns:\n",
    "        print(\"capping the \",col)\n",
    "        if (((df[col].dtype)=='float64') | ((df[col].dtype)=='int64')):\n",
    "            percentiles = df[col].quantile([0.25,0.75]).values\n",
    "            df[col][df[col] <= percentiles[0]] = percentiles[0]\n",
    "            df[col][df[col] >= percentiles[1]] = percentiles[1]\n",
    "        else:\n",
    "            df[col]=df[col]\n",
    "    return df\n",
    "\n",
    "final_df=outlier(df)"
   ]
  },
  {
   "cell_type": "code",
   "execution_count": 106,
   "id": "09da71d4",
   "metadata": {},
   "outputs": [
    {
     "data": {
      "text/plain": [
       "<AxesSubplot:>"
      ]
     },
     "execution_count": 106,
     "metadata": {},
     "output_type": "execute_result"
    },
    {
     "data": {
      "image/png": "[encoded data removed]",
      "text/plain": [
       "<Figure size 432x288 with 1 Axes>"
      ]
     },
     "metadata": {
      "needs_background": "light"
     },
     "output_type": "display_data"
    }
   ],
   "source": [
    "df.boxplot()"
   ]
  },
  {
   "cell_type": "code",
   "execution_count": 112,
   "id": "bb300a98",
   "metadata": {},
   "outputs": [
    {
     "data": {
      "text/plain": [
       "<AxesSubplot:>"
      ]
     },
     "execution_count": 112,
     "metadata": {},
     "output_type": "execute_result"
    },
    {
     "data": {
      "image/png": "[encoded data removed]",
      "text/plain": [
       "<Figure size 432x288 with 1 Axes>"
      ]
     },
     "metadata": {
      "needs_background": "light"
     },
     "output_type": "display_data"
    }
   ],
   "source": [
    "final_df.boxplot()"
   ]
  },
  {
   "cell_type": "code",
   "execution_count": 121,
   "id": "62af6341",
   "metadata": {},
   "outputs": [
    {
     "data": {
      "text/html": [
       "<div>\n",
       "<style scoped>\n",
       "    .dataframe tbody tr th:only-of-type {\n",
       "        vertical-align: middle;\n",
       "    }\n",
       "\n",
       "    .dataframe tbody tr th {\n",
       "        vertical-align: top;\n",
       "    }\n",
       "\n",
       "    .dataframe thead th {\n",
       "        text-align: right;\n",
       "    }\n",
       "</style>\n",
       "<table border=\"1\" class=\"dataframe\">\n",
       "  <thead>\n",
       "    <tr style=\"text-align: right;\">\n",
       "      <th></th>\n",
       "      <th>Data_No</th>\n",
       "      <th>Differential_pressure</th>\n",
       "      <th>Flow_rate</th>\n",
       "      <th>Time</th>\n",
       "      <th>Dust_feed</th>\n",
       "      <th>Dust</th>\n",
       "      <th>RUL</th>\n",
       "    </tr>\n",
       "  </thead>\n",
       "  <tbody>\n",
       "    <tr>\n",
       "      <th>0</th>\n",
       "      <td>15</td>\n",
       "      <td>12.4783</td>\n",
       "      <td>58.634074</td>\n",
       "      <td>19.9</td>\n",
       "      <td>158.492533</td>\n",
       "      <td>1</td>\n",
       "      <td>58.9</td>\n",
       "    </tr>\n",
       "    <tr>\n",
       "      <th>1</th>\n",
       "      <td>15</td>\n",
       "      <td>12.4783</td>\n",
       "      <td>58.634074</td>\n",
       "      <td>19.9</td>\n",
       "      <td>158.492533</td>\n",
       "      <td>1</td>\n",
       "      <td>58.8</td>\n",
       "    </tr>\n",
       "    <tr>\n",
       "      <th>2</th>\n",
       "      <td>15</td>\n",
       "      <td>12.4783</td>\n",
       "      <td>58.634074</td>\n",
       "      <td>19.9</td>\n",
       "      <td>158.492533</td>\n",
       "      <td>1</td>\n",
       "      <td>58.7</td>\n",
       "    </tr>\n",
       "    <tr>\n",
       "      <th>3</th>\n",
       "      <td>15</td>\n",
       "      <td>12.4783</td>\n",
       "      <td>58.634074</td>\n",
       "      <td>19.9</td>\n",
       "      <td>158.492533</td>\n",
       "      <td>1</td>\n",
       "      <td>58.6</td>\n",
       "    </tr>\n",
       "    <tr>\n",
       "      <th>4</th>\n",
       "      <td>15</td>\n",
       "      <td>12.4783</td>\n",
       "      <td>58.634074</td>\n",
       "      <td>19.9</td>\n",
       "      <td>158.492533</td>\n",
       "      <td>1</td>\n",
       "      <td>58.5</td>\n",
       "    </tr>\n",
       "    <tr>\n",
       "      <th>...</th>\n",
       "      <td>...</td>\n",
       "      <td>...</td>\n",
       "      <td>...</td>\n",
       "      <td>...</td>\n",
       "      <td>...</td>\n",
       "      <td>...</td>\n",
       "      <td>...</td>\n",
       "    </tr>\n",
       "    <tr>\n",
       "      <th>39409</th>\n",
       "      <td>31</td>\n",
       "      <td>123.8788</td>\n",
       "      <td>81.711670</td>\n",
       "      <td>52.0</td>\n",
       "      <td>158.492533</td>\n",
       "      <td>0</td>\n",
       "      <td>8.2</td>\n",
       "    </tr>\n",
       "    <tr>\n",
       "      <th>39410</th>\n",
       "      <td>31</td>\n",
       "      <td>123.8788</td>\n",
       "      <td>81.711670</td>\n",
       "      <td>52.1</td>\n",
       "      <td>158.492533</td>\n",
       "      <td>0</td>\n",
       "      <td>8.1</td>\n",
       "    </tr>\n",
       "    <tr>\n",
       "      <th>39411</th>\n",
       "      <td>31</td>\n",
       "      <td>123.8788</td>\n",
       "      <td>81.711670</td>\n",
       "      <td>52.2</td>\n",
       "      <td>158.492533</td>\n",
       "      <td>0</td>\n",
       "      <td>8.0</td>\n",
       "    </tr>\n",
       "    <tr>\n",
       "      <th>39412</th>\n",
       "      <td>31</td>\n",
       "      <td>123.8788</td>\n",
       "      <td>81.711670</td>\n",
       "      <td>52.3</td>\n",
       "      <td>158.492533</td>\n",
       "      <td>0</td>\n",
       "      <td>7.9</td>\n",
       "    </tr>\n",
       "    <tr>\n",
       "      <th>39413</th>\n",
       "      <td>31</td>\n",
       "      <td>123.8788</td>\n",
       "      <td>81.711670</td>\n",
       "      <td>52.4</td>\n",
       "      <td>158.492533</td>\n",
       "      <td>0</td>\n",
       "      <td>7.8</td>\n",
       "    </tr>\n",
       "  </tbody>\n",
       "</table>\n",
       "<p>39414 rows × 7 columns</p>\n",
       "</div>"
      ],
      "text/plain": [
       "       Data_No  Differential_pressure  Flow_rate  Time   Dust_feed  Dust   RUL\n",
       "0           15                12.4783  58.634074  19.9  158.492533     1  58.9\n",
       "1           15                12.4783  58.634074  19.9  158.492533     1  58.8\n",
       "2           15                12.4783  58.634074  19.9  158.492533     1  58.7\n",
       "3           15                12.4783  58.634074  19.9  158.492533     1  58.6\n",
       "4           15                12.4783  58.634074  19.9  158.492533     1  58.5\n",
       "...        ...                    ...        ...   ...         ...   ...   ...\n",
       "39409       31               123.8788  81.711670  52.0  158.492533     0   8.2\n",
       "39410       31               123.8788  81.711670  52.1  158.492533     0   8.1\n",
       "39411       31               123.8788  81.711670  52.2  158.492533     0   8.0\n",
       "39412       31               123.8788  81.711670  52.3  158.492533     0   7.9\n",
       "39413       31               123.8788  81.711670  52.4  158.492533     0   7.8\n",
       "\n",
       "[39414 rows x 7 columns]"
      ]
     },
     "execution_count": 121,
     "metadata": {},
     "output_type": "execute_result"
    }
   ],
   "source": [
    "final_df"
   ]
  },
  {
   "cell_type": "code",
   "execution_count": 115,
   "id": "9195d8de",
   "metadata": {},
   "outputs": [
    {
     "data": {
      "text/plain": [
       "0        58.9\n",
       "1        58.8\n",
       "2        58.7\n",
       "3        58.6\n",
       "4        58.5\n",
       "         ... \n",
       "39409     8.2\n",
       "39410     8.1\n",
       "39411     8.0\n",
       "39412     7.9\n",
       "39413     7.8\n",
       "Name: RUL, Length: 39414, dtype: float64"
      ]
     },
     "execution_count": 115,
     "metadata": {},
     "output_type": "execute_result"
    }
   ],
   "source": [
    "x=final_df.drop('RUL',axis=1)\n",
    "y=final_df['RUL']\n",
    "final_df['RUL']"
   ]
  },
  {
   "cell_type": "code",
   "execution_count": 116,
   "id": "b0985875",
   "metadata": {},
   "outputs": [],
   "source": [
    "x_train,x_test,y_train,y_test=train_test_split(x,y,random_state=6,test_size=0.2)"
   ]
  },
  {
   "cell_type": "markdown",
   "id": "220518b2",
   "metadata": {},
   "source": [
    "# USING LINEAR REGRESSION"
   ]
  },
  {
   "cell_type": "code",
   "execution_count": 117,
   "id": "87054ca8",
   "metadata": {},
   "outputs": [
    {
     "data": {
      "text/plain": [
       "LinearRegression()"
      ]
     },
     "execution_count": 117,
     "metadata": {},
     "output_type": "execute_result"
    }
   ],
   "source": [
    "lr_reg=LinearRegression()\n",
    "lr_reg.fit(x_train,y_train)"
   ]
  },
  {
   "cell_type": "code",
   "execution_count": 118,
   "id": "f46d732d",
   "metadata": {},
   "outputs": [
    {
     "name": "stdout",
     "output_type": "stream",
     "text": [
      "mean_squared_error==925.404632145414\n",
      "root mean_squared_error==30.42046403566872\n",
      "mean_absolute_error==23.735366836992014\n",
      "r2_score==0.8321184594945239\n"
     ]
    },
    {
     "data": {
      "text/plain": [
       "'metrics calculated'"
      ]
     },
     "execution_count": 118,
     "metadata": {},
     "output_type": "execute_result"
    }
   ],
   "source": [
    "#TRAINING DATASET\n",
    "y_pred_train=lr_reg.predict(x_train)\n",
    "train_test_data(y_train,y_pred_train)"
   ]
  },
  {
   "cell_type": "code",
   "execution_count": 120,
   "id": "a66f4ebe",
   "metadata": {},
   "outputs": [
    {
     "name": "stdout",
     "output_type": "stream",
     "text": [
      "mean_squared_error==912.6639885302948\n",
      "root mean_squared_error==30.21032916951245\n",
      "mean_absolute_error==23.55030939438345\n",
      "r2_score==0.8320515521974622\n"
     ]
    },
    {
     "data": {
      "text/plain": [
       "'metrics calculated'"
      ]
     },
     "execution_count": 120,
     "metadata": {},
     "output_type": "execute_result"
    }
   ],
   "source": [
    "#TESTING DATASET\n",
    "y_pred_test=lr_reg.predict(x_test)\n",
    "train_test_data(y_test,y_pred_test)"
   ]
  },
  {
   "cell_type": "markdown",
   "id": "437ebf43",
   "metadata": {},
   "source": [
    "# USING KNN"
   ]
  },
  {
   "cell_type": "code",
   "execution_count": 125,
   "id": "d37b3de4",
   "metadata": {},
   "outputs": [],
   "source": [
    "#SINCE DATA IS NOT NORMALLY DISTRIBUTED WE WILL USE NORMALIZATION\n",
    "norm=MinMaxScaler()\n",
    "x_train_trf=norm.fit_transform(x_train)\n",
    "x_test_trf=norm.transform(x_test)"
   ]
  },
  {
   "cell_type": "code",
   "execution_count": 127,
   "id": "421760f8",
   "metadata": {},
   "outputs": [
    {
     "data": {
      "text/plain": [
       "array([[1.        , 1.        , 0.95840113, 0.05808081, 1.        ,\n",
       "        0.        ],\n",
       "       [0.        , 0.28003241, 0.        , 0.05555556, 1.        ,\n",
       "        1.        ],\n",
       "       [0.        , 0.09740253, 0.99963347, 0.05555556, 1.        ,\n",
       "        1.        ],\n",
       "       ...,\n",
       "       [1.        , 0.56412323, 0.97105713, 0.19065657, 1.        ,\n",
       "        0.        ],\n",
       "       [0.        , 0.18181812, 1.        , 0.        , 1.        ,\n",
       "        1.        ],\n",
       "       [1.        , 0.10876621, 1.        , 0.00126263, 1.        ,\n",
       "        0.        ]])"
      ]
     },
     "execution_count": 127,
     "metadata": {},
     "output_type": "execute_result"
    }
   ],
   "source": []
  },
  {
   "cell_type": "code",
   "execution_count": 128,
   "id": "81525dd6",
   "metadata": {},
   "outputs": [
    {
     "data": {
      "text/plain": [
       "KNeighborsRegressor()"
      ]
     },
     "execution_count": 128,
     "metadata": {},
     "output_type": "execute_result"
    }
   ],
   "source": [
    "knn_reg=KNeighborsRegressor()\n",
    "knn_reg.fit(x_train_trf,y_train)"
   ]
  },
  {
   "cell_type": "code",
   "execution_count": 129,
   "id": "47eeaaff",
   "metadata": {},
   "outputs": [
    {
     "name": "stdout",
     "output_type": "stream",
     "text": [
      "mean_squared_error==161.14375613345172\n",
      "root mean_squared_error==12.694241061735504\n",
      "mean_absolute_error==6.200482049980972\n",
      "r2_score==0.9703463223532397\n"
     ]
    },
    {
     "data": {
      "text/plain": [
       "'metrics calculated'"
      ]
     },
     "execution_count": 129,
     "metadata": {},
     "output_type": "execute_result"
    }
   ],
   "source": [
    "#TESTING DATA\n",
    "y_pred_test_knn=knn_reg.predict(x_test_trf)\n",
    "train_test_data(y_test,y_pred_test_knn)"
   ]
  },
  {
   "cell_type": "code",
   "execution_count": 130,
   "id": "55c6dad0",
   "metadata": {},
   "outputs": [
    {
     "name": "stdout",
     "output_type": "stream",
     "text": [
      "mean_squared_error==140.72573998921695\n",
      "root mean_squared_error==11.862788036090713\n",
      "mean_absolute_error==5.6270635247851315\n",
      "r2_score==0.9744703525382284\n"
     ]
    },
    {
     "data": {
      "text/plain": [
       "'metrics calculated'"
      ]
     },
     "execution_count": 130,
     "metadata": {},
     "output_type": "execute_result"
    }
   ],
   "source": [
    "#TRAINING DATA\n",
    "y_pred_train_knn=knn_reg.predict(x_train_trf)\n",
    "train_test_data(y_train,y_pred_train_knn)"
   ]
  },
  {
   "cell_type": "code",
   "execution_count": 131,
   "id": "ee218a1b",
   "metadata": {},
   "outputs": [],
   "source": [
    "knn_reg1=KNeighborsRegressor()\n",
    "hyp={'n_neighbors':np.arange(5,15,2),\n",
    "    'p':[1,2]}"
   ]
  },
  {
   "cell_type": "code",
   "execution_count": 133,
   "id": "a7b4f86e",
   "metadata": {},
   "outputs": [
    {
     "data": {
      "text/plain": [
       "RandomizedSearchCV(cv=5, estimator=KNeighborsRegressor(),\n",
       "                   param_distributions={'n_neighbors': array([ 5,  7,  9, 11, 13]),\n",
       "                                        'p': [1, 2]})"
      ]
     },
     "execution_count": 133,
     "metadata": {},
     "output_type": "execute_result"
    }
   ],
   "source": [
    "rscv=RandomizedSearchCV(knn_reg1,hyp,cv=5)\n",
    "rscv.fit(x_train_trf,y_train)"
   ]
  },
  {
   "cell_type": "code",
   "execution_count": 134,
   "id": "adad4c00",
   "metadata": {},
   "outputs": [
    {
     "data": {
      "text/plain": [
       "{'p': 1, 'n_neighbors': 13}"
      ]
     },
     "execution_count": 134,
     "metadata": {},
     "output_type": "execute_result"
    }
   ],
   "source": [
    "rscv.best_params_"
   ]
  },
  {
   "cell_type": "code",
   "execution_count": 135,
   "id": "6b5092ff",
   "metadata": {},
   "outputs": [
    {
     "data": {
      "text/plain": [
       "KNeighborsRegressor(n_neighbors=13, p=1)"
      ]
     },
     "execution_count": 135,
     "metadata": {},
     "output_type": "execute_result"
    }
   ],
   "source": [
    "knn_hyp=rscv.best_estimator_\n",
    "knn_hyp.fit(x_train,y_train)"
   ]
  },
  {
   "cell_type": "code",
   "execution_count": 136,
   "id": "e6845d7a",
   "metadata": {},
   "outputs": [
    {
     "name": "stderr",
     "output_type": "stream",
     "text": [
      "/opt/anaconda3/lib/python3.9/site-packages/sklearn/base.py:450: UserWarning: X does not have valid feature names, but KNeighborsRegressor was fitted with feature names\n",
      "  warnings.warn(\n"
     ]
    },
    {
     "name": "stdout",
     "output_type": "stream",
     "text": [
      "mean_squared_error==25312.831271862822\n",
      "root mean_squared_error==159.10006685059193\n",
      "mean_absolute_error==144.26375550112704\n",
      "r2_score==-3.6580677829119637\n"
     ]
    },
    {
     "data": {
      "text/plain": [
       "'metrics calculated'"
      ]
     },
     "execution_count": 136,
     "metadata": {},
     "output_type": "execute_result"
    }
   ],
   "source": [
    "y_pred_test_hyp_knn=knn_hyp.predict(x_test_trf)\n",
    "train_test_data(y_test,y_pred_test_hyp_knn)"
   ]
  },
  {
   "cell_type": "code",
   "execution_count": 137,
   "id": "023319cf",
   "metadata": {},
   "outputs": [
    {
     "name": "stderr",
     "output_type": "stream",
     "text": [
      "/opt/anaconda3/lib/python3.9/site-packages/sklearn/base.py:450: UserWarning: X does not have valid feature names, but KNeighborsRegressor was fitted with feature names\n",
      "  warnings.warn(\n"
     ]
    },
    {
     "name": "stdout",
     "output_type": "stream",
     "text": [
      "mean_squared_error==25256.705920933633\n",
      "root mean_squared_error==158.9235851625983\n",
      "mean_absolute_error==143.89167315194078\n",
      "r2_score==-3.581925085321858\n"
     ]
    },
    {
     "data": {
      "text/plain": [
       "'metrics calculated'"
      ]
     },
     "execution_count": 137,
     "metadata": {},
     "output_type": "execute_result"
    }
   ],
   "source": [
    "#TRAINING DATA\n",
    "y_pred_train_knn_hyp=knn_hyp.predict(x_train_trf)\n",
    "train_test_data(y_train,y_pred_train_knn_hyp)"
   ]
  },
  {
   "cell_type": "code",
   "execution_count": null,
   "id": "54d2a117",
   "metadata": {},
   "outputs": [],
   "source": [
    "#Not good model "
   ]
  },
  {
   "cell_type": "markdown",
   "id": "00811998",
   "metadata": {},
   "source": [
    "# USING DECISION TREE"
   ]
  },
  {
   "cell_type": "code",
   "execution_count": 138,
   "id": "7b26d20c",
   "metadata": {},
   "outputs": [
    {
     "data": {
      "text/plain": [
       "DecisionTreeRegressor(random_state=10)"
      ]
     },
     "execution_count": 138,
     "metadata": {},
     "output_type": "execute_result"
    }
   ],
   "source": [
    "dt_reg1=DecisionTreeRegressor(random_state=10)\n",
    "dt_reg1.fit(x_train,y_train)"
   ]
  },
  {
   "cell_type": "code",
   "execution_count": 139,
   "id": "1adc6c39",
   "metadata": {},
   "outputs": [
    {
     "name": "stdout",
     "output_type": "stream",
     "text": [
      "mean_squared_error==167.95379585636297\n",
      "root mean_squared_error==12.959698910714051\n",
      "mean_absolute_error==6.408622997617267\n",
      "r2_score==0.9690931386894706\n"
     ]
    },
    {
     "data": {
      "text/plain": [
       "'metrics calculated'"
      ]
     },
     "execution_count": 139,
     "metadata": {},
     "output_type": "execute_result"
    }
   ],
   "source": [
    "#TESTING DATA\n",
    "y_pred_test_dt1=dt_reg1.predict(x_test)\n",
    "train_test_data(y_test,y_pred_test_dt1)"
   ]
  },
  {
   "cell_type": "code",
   "execution_count": 140,
   "id": "9f3eff21",
   "metadata": {},
   "outputs": [
    {
     "name": "stdout",
     "output_type": "stream",
     "text": [
      "mean_squared_error==111.60385238816374\n",
      "root mean_squared_error==10.56427244954255\n",
      "mean_absolute_error==4.495253469156407\n",
      "r2_score==0.9797534764637675\n"
     ]
    },
    {
     "data": {
      "text/plain": [
       "'metrics calculated'"
      ]
     },
     "execution_count": 140,
     "metadata": {},
     "output_type": "execute_result"
    }
   ],
   "source": [
    "#TRAINING DATA\n",
    "y_pred_train_dt1=dt_reg1.predict(x_train)\n",
    "train_test_data(y_train,y_pred_train_dt1)"
   ]
  },
  {
   "cell_type": "markdown",
   "id": "0a7223fd",
   "metadata": {},
   "source": [
    "# USING RANDOM FOREST"
   ]
  },
  {
   "cell_type": "code",
   "execution_count": 141,
   "id": "4a460f7e",
   "metadata": {},
   "outputs": [
    {
     "data": {
      "text/plain": [
       "RandomForestRegressor(random_state=9)"
      ]
     },
     "execution_count": 141,
     "metadata": {},
     "output_type": "execute_result"
    }
   ],
   "source": [
    "rf_reg1=RandomForestRegressor(random_state=9)\n",
    "rf_reg1.fit(x_train,y_train)"
   ]
  },
  {
   "cell_type": "code",
   "execution_count": 142,
   "id": "889a8243",
   "metadata": {},
   "outputs": [
    {
     "name": "stdout",
     "output_type": "stream",
     "text": [
      "mean_squared_error==153.78709487454753\n",
      "root mean_squared_error==12.401092487137879\n",
      "mean_absolute_error==6.194029202703975\n",
      "r2_score==0.9717000953244201\n"
     ]
    },
    {
     "data": {
      "text/plain": [
       "'metrics calculated'"
      ]
     },
     "execution_count": 142,
     "metadata": {},
     "output_type": "execute_result"
    }
   ],
   "source": [
    "y_pred_test_rf1=rf_reg1.predict(x_test)\n",
    "train_test_data(y_test,y_pred_test_rf1)"
   ]
  },
  {
   "cell_type": "code",
   "execution_count": 143,
   "id": "018414f4",
   "metadata": {},
   "outputs": [
    {
     "name": "stdout",
     "output_type": "stream",
     "text": [
      "mean_squared_error==113.6835171181921\n",
      "root mean_squared_error==10.662247282735104\n",
      "mean_absolute_error==4.883445121825101\n",
      "r2_score==0.9793761957516507\n"
     ]
    },
    {
     "data": {
      "text/plain": [
       "'metrics calculated'"
      ]
     },
     "execution_count": 143,
     "metadata": {},
     "output_type": "execute_result"
    }
   ],
   "source": [
    "y_pred_train_rf1=rf_reg1.predict(x_train)\n",
    "train_test_data(y_train,y_pred_train_rf1)"
   ]
  },
  {
   "cell_type": "markdown",
   "id": "7e4c74eb",
   "metadata": {},
   "source": [
    "# USING ADABOOST"
   ]
  },
  {
   "cell_type": "code",
   "execution_count": 145,
   "id": "041e5791",
   "metadata": {},
   "outputs": [
    {
     "data": {
      "text/plain": [
       "AdaBoostRegressor(random_state=12)"
      ]
     },
     "execution_count": 145,
     "metadata": {},
     "output_type": "execute_result"
    }
   ],
   "source": [
    "ab_reg1=AdaBoostRegressor(random_state=12)\n",
    "ab_reg1.fit(x_train,y_train)"
   ]
  },
  {
   "cell_type": "code",
   "execution_count": 146,
   "id": "2093cf35",
   "metadata": {},
   "outputs": [
    {
     "name": "stdout",
     "output_type": "stream",
     "text": [
      "mean_squared_error==548.5670084946951\n",
      "root mean_squared_error==23.421507391598325\n",
      "mean_absolute_error==19.520045939001083\n",
      "r2_score==0.8990526866949923\n"
     ]
    },
    {
     "data": {
      "text/plain": [
       "'metrics calculated'"
      ]
     },
     "execution_count": 146,
     "metadata": {},
     "output_type": "execute_result"
    }
   ],
   "source": [
    "y_pred_test_ab1=ab_reg1.predict(x_test)\n",
    "train_test_data(y_test,y_pred_test_ab1)"
   ]
  },
  {
   "cell_type": "code",
   "execution_count": 147,
   "id": "00407a99",
   "metadata": {},
   "outputs": [
    {
     "name": "stdout",
     "output_type": "stream",
     "text": [
      "mean_squared_error==540.1404733858509\n",
      "root mean_squared_error==23.240922386726627\n",
      "mean_absolute_error==19.339051124390412\n",
      "r2_score==0.9020108484316245\n"
     ]
    },
    {
     "data": {
      "text/plain": [
       "'metrics calculated'"
      ]
     },
     "execution_count": 147,
     "metadata": {},
     "output_type": "execute_result"
    }
   ],
   "source": [
    "y_pred_train_ab1=ab_reg1.predict(x_train)\n",
    "train_test_data(y_train,y_pred_train_ab1)"
   ]
  },
  {
   "cell_type": "raw",
   "id": "fe0be5c6",
   "metadata": {},
   "source": [
    "BASED ON THE ABOVE MODEL TRAINING AND EVALUATION WE SELECT DECISION TREE WITH HANDLED OUTLIER AS BEST MODEL"
   ]
  },
  {
   "cell_type": "code",
   "execution_count": 148,
   "id": "74534906",
   "metadata": {},
   "outputs": [
    {
     "data": {
      "text/plain": [
       "Index(['Data_No', 'Differential_pressure', 'Flow_rate', 'Time', 'Dust_feed',\n",
       "       'Dust'],\n",
       "      dtype='object')"
      ]
     },
     "execution_count": 148,
     "metadata": {},
     "output_type": "execute_result"
    }
   ],
   "source": [
    "x.columns"
   ]
  },
  {
   "cell_type": "code",
   "execution_count": 155,
   "id": "a7233f2b",
   "metadata": {},
   "outputs": [
    {
     "name": "stdout",
     "output_type": "stream",
     "text": [
      "Data_No :3\n",
      "Differential_pressure :125\n",
      "Flow_rate :56\n",
      "Time :3\n",
      "Dust_feed :139\n",
      "Dust :1\n",
      "[[  3 125  56   3 139   1]]\n",
      "(1, 6)\n",
      "REMAINING USEFUL LIFE== [12.4]\n"
     ]
    },
    {
     "name": "stderr",
     "output_type": "stream",
     "text": [
      "/opt/anaconda3/lib/python3.9/site-packages/sklearn/base.py:450: UserWarning: X does not have valid feature names, but DecisionTreeRegressor was fitted with feature names\n",
      "  warnings.warn(\n"
     ]
    }
   ],
   "source": [
    "def prediction():\n",
    "    user_data=input_data()\n",
    "    result=dt_reg1.predict(user_data)\n",
    "    print('REMAINING USEFUL LIFE==',result)\n",
    "    \n",
    "def input_data():\n",
    "    Data_No=eval(input('Data_No :'))\n",
    "    Differential_pressure=eval(input('Differential_pressure :'))\n",
    "    Flow_rate=eval(input('Flow_rate :'))\n",
    "    Time=eval(input('Time :'))\n",
    "    Dust_feed=eval(input('Dust_feed :'))\n",
    "    Dust=eval(input('Dust :'))\n",
    "    \n",
    "    user_data=np.array([Data_No,Differential_pressure,Flow_rate,Time,Dust_feed,Dust],ndmin=2)\n",
    "    print(user_data)\n",
    "    print(user_data.shape)\n",
    "    return user_data\n",
    "\n",
    "prediction()\n",
    "\n",
    "\n",
    "\n",
    "    \n",
    "    \n",
    "    "
   ]
  },
  {
   "cell_type": "code",
   "execution_count": 157,
   "id": "dab78237",
   "metadata": {},
   "outputs": [],
   "source": [
    "import pickle\n",
    "with open('dt_reg1.pkl','wb') as file:\n",
    "    pickle.dump(dt_reg1,file)"
   ]
  },
  {
   "cell_type": "code",
   "execution_count": null,
   "id": "c52a1832",
   "metadata": {},
   "outputs": [],
   "source": []
  }
 ],
 "metadata": {
  "kernelspec": {
   "display_name": "Python 3 (ipykernel)",
   "language": "python",
   "name": "python3"
  },
  "language_info": {
   "codemirror_mode": {
    "name": "ipython",
    "version": 3
   },
   "file_extension": ".py",
   "mimetype": "text/x-python",
   "name": "python",
   "nbconvert_exporter": "python",
   "pygments_lexer": "ipython3",
   "version": "3.9.12"
  }
 },
 "nbformat": 4,
 "nbformat_minor": 5
}
